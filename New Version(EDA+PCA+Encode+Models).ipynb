{
 "cells": [
  {
   "cell_type": "markdown",
   "metadata": {},
   "source": [
    "# Data"
   ]
  },
  {
   "cell_type": "markdown",
   "metadata": {},
   "source": [
    "## Packages"
   ]
  },
  {
   "cell_type": "markdown",
   "metadata": {},
   "source": [
    "Import all the packages."
   ]
  },
  {
   "cell_type": "code",
   "execution_count": 138,
   "metadata": {},
   "outputs": [],
   "source": [
    "import warnings\n",
    "warnings.filterwarnings(\"ignore\")\n",
    "import numpy as np\n",
    "import pandas as pd\n",
    "import matplotlib.pyplot as plt\n",
    "import seaborn as sns\n",
    "import sklearn\n",
    "from sklearn.model_selection import train_test_split\n",
    "from sklearn import metrics, preprocessing\n",
    "from sklearn.preprocessing import StandardScaler\n",
    "from sklearn.decomposition import PCA\n",
    "from sklearn.preprocessing import LabelEncoder\n",
    "from sklearn.preprocessing import OneHotEncoder\n",
    "from category_encoders import *\n",
    "from sklearn.linear_model import LogisticRegression\n",
    "from sklearn.model_selection import cross_val_score\n",
    "import random\n",
    "from scipy.stats import norm\n",
    "from sklearn.ensemble import RandomForestClassifier"
   ]
  },
  {
   "cell_type": "markdown",
   "metadata": {},
   "source": [
    "## Load data"
   ]
  },
  {
   "cell_type": "code",
   "execution_count": 84,
   "metadata": {},
   "outputs": [],
   "source": [
    "dat = pd.read_csv('F:\\Lab\\Majo Data\\SKMEL-shape descriptors.csv', header = 0)"
   ]
  },
  {
   "cell_type": "code",
   "execution_count": 85,
   "metadata": {},
   "outputs": [],
   "source": [
    "data = dat.copy()"
   ]
  },
  {
   "cell_type": "markdown",
   "metadata": {},
   "source": [
    "## Understand data\n",
    "\n",
    "After loading the data, the next step is to understand what kind of data it is. It is important to know what each feature is. All the information will help us to preprocess the data before modeling.\n",
    "\n",
    "Understanding from these parts: the total number of features, the type of features, the correlation among these features, missing value and basic statistics for each features."
   ]
  },
  {
   "cell_type": "code",
   "execution_count": 86,
   "metadata": {},
   "outputs": [
    {
     "name": "stdout",
     "output_type": "stream",
     "text": [
      "<class 'pandas.core.frame.DataFrame'>\n",
      "RangeIndex: 289 entries, 0 to 288\n",
      "Data columns (total 11 columns):\n",
      " #   Column    Non-Null Count  Dtype  \n",
      "---  ------    --------------  -----  \n",
      " 0   HPI       289 non-null    int64  \n",
      " 1   Extr      289 non-null    int64  \n",
      " 2   Region    289 non-null    object \n",
      " 3   area      289 non-null    int64  \n",
      " 4   Perim     289 non-null    float64\n",
      " 5   Mayor     289 non-null    float64\n",
      " 6   Minor     289 non-null    float64\n",
      " 7   Circ      289 non-null    float64\n",
      " 8   Ar        289 non-null    float64\n",
      " 9   Round     289 non-null    float64\n",
      " 10  Solidity  289 non-null    float64\n",
      "dtypes: float64(7), int64(3), object(1)\n",
      "memory usage: 25.0+ KB\n"
     ]
    }
   ],
   "source": [
    "data.info()"
   ]
  },
  {
   "cell_type": "markdown",
   "metadata": {},
   "source": [
    "From above:\n",
    "\n",
    "- Data has one object value, three int values and seven float values.  \n",
    "- No variable columns has null/missing values.  \n",
    "- The shape of this data is (289, 11). \n",
    "\n",
    "Next step, we will go deep inside these features from different parts."
   ]
  },
  {
   "cell_type": "markdown",
   "metadata": {},
   "source": [
    "- **Categorical features** \n",
    "\n",
    ">- HPI\n",
    "\n",
    "In our data, there is a special feature, HPI. This is an ordinal feature. We need to check how many levels it includes. "
   ]
  },
  {
   "cell_type": "code",
   "execution_count": 87,
   "metadata": {},
   "outputs": [
    {
     "name": "stdout",
     "output_type": "stream",
     "text": [
      "the number of levels = 4\n",
      "levels = [24 72 96 48]\n"
     ]
    }
   ],
   "source": [
    "levels = data.HPI.unique()\n",
    "print(\"the number of levels = \" + str(len(levels)))\n",
    "print(\"levels = \" + str(levels))"
   ]
  },
  {
   "cell_type": "markdown",
   "metadata": {},
   "source": [
    ">- Region\n",
    "\n",
    "Another categorical feature in our data is Region."
   ]
  },
  {
   "cell_type": "code",
   "execution_count": 88,
   "metadata": {},
   "outputs": [
    {
     "name": "stdout",
     "output_type": "stream",
     "text": [
      "the number of regions = 5\n",
      "regions = ['CV' 'PL' 'AVJ' 'ISV' 'DA']\n"
     ]
    }
   ],
   "source": [
    "regions = data['Region '].unique()\n",
    "print(\"the number of regions = \" + str(len(regions)))\n",
    "print(\"regions = \" + str(regions))"
   ]
  },
  {
   "cell_type": "markdown",
   "metadata": {},
   "source": [
    "- **Numerical features** \n",
    "\n",
    "Firstly, using df.describe() function to get the basic information about all the numerical features exclude HPI."
   ]
  },
  {
   "cell_type": "code",
   "execution_count": 89,
   "metadata": {},
   "outputs": [
    {
     "data": {
      "text/html": [
       "<div>\n",
       "<style scoped>\n",
       "    .dataframe tbody tr th:only-of-type {\n",
       "        vertical-align: middle;\n",
       "    }\n",
       "\n",
       "    .dataframe tbody tr th {\n",
       "        vertical-align: top;\n",
       "    }\n",
       "\n",
       "    .dataframe thead th {\n",
       "        text-align: right;\n",
       "    }\n",
       "</style>\n",
       "<table border=\"1\" class=\"dataframe\">\n",
       "  <thead>\n",
       "    <tr style=\"text-align: right;\">\n",
       "      <th></th>\n",
       "      <th>area</th>\n",
       "      <th>Perim</th>\n",
       "      <th>Mayor</th>\n",
       "      <th>Minor</th>\n",
       "      <th>Circ</th>\n",
       "      <th>Ar</th>\n",
       "      <th>Round</th>\n",
       "      <th>Solidity</th>\n",
       "    </tr>\n",
       "  </thead>\n",
       "  <tbody>\n",
       "    <tr>\n",
       "      <th>count</th>\n",
       "      <td>289.000000</td>\n",
       "      <td>289.000000</td>\n",
       "      <td>289.000000</td>\n",
       "      <td>289.000000</td>\n",
       "      <td>289.000000</td>\n",
       "      <td>289.000000</td>\n",
       "      <td>289.000000</td>\n",
       "      <td>289.000000</td>\n",
       "    </tr>\n",
       "    <tr>\n",
       "      <th>mean</th>\n",
       "      <td>5161.757785</td>\n",
       "      <td>530.465426</td>\n",
       "      <td>111.412453</td>\n",
       "      <td>52.034671</td>\n",
       "      <td>0.368934</td>\n",
       "      <td>2.198529</td>\n",
       "      <td>0.598536</td>\n",
       "      <td>0.818540</td>\n",
       "    </tr>\n",
       "    <tr>\n",
       "      <th>std</th>\n",
       "      <td>5464.460727</td>\n",
       "      <td>459.618965</td>\n",
       "      <td>83.921854</td>\n",
       "      <td>20.245338</td>\n",
       "      <td>0.265239</td>\n",
       "      <td>1.543613</td>\n",
       "      <td>0.245184</td>\n",
       "      <td>0.121262</td>\n",
       "    </tr>\n",
       "    <tr>\n",
       "      <th>min</th>\n",
       "      <td>36.000000</td>\n",
       "      <td>22.971000</td>\n",
       "      <td>7.197000</td>\n",
       "      <td>6.369000</td>\n",
       "      <td>0.028000</td>\n",
       "      <td>1.020000</td>\n",
       "      <td>0.093000</td>\n",
       "      <td>0.336000</td>\n",
       "    </tr>\n",
       "    <tr>\n",
       "      <th>25%</th>\n",
       "      <td>1940.000000</td>\n",
       "      <td>232.872000</td>\n",
       "      <td>58.278000</td>\n",
       "      <td>39.014000</td>\n",
       "      <td>0.141000</td>\n",
       "      <td>1.223000</td>\n",
       "      <td>0.397000</td>\n",
       "      <td>0.760000</td>\n",
       "    </tr>\n",
       "    <tr>\n",
       "      <th>50%</th>\n",
       "      <td>3501.000000</td>\n",
       "      <td>398.198000</td>\n",
       "      <td>84.804000</td>\n",
       "      <td>51.406000</td>\n",
       "      <td>0.293000</td>\n",
       "      <td>1.576000</td>\n",
       "      <td>0.635000</td>\n",
       "      <td>0.840000</td>\n",
       "    </tr>\n",
       "    <tr>\n",
       "      <th>75%</th>\n",
       "      <td>6081.000000</td>\n",
       "      <td>617.176000</td>\n",
       "      <td>131.972000</td>\n",
       "      <td>62.822000</td>\n",
       "      <td>0.564000</td>\n",
       "      <td>2.517000</td>\n",
       "      <td>0.818000</td>\n",
       "      <td>0.914000</td>\n",
       "    </tr>\n",
       "    <tr>\n",
       "      <th>max</th>\n",
       "      <td>42170.000000</td>\n",
       "      <td>2799.497000</td>\n",
       "      <td>591.187000</td>\n",
       "      <td>126.034000</td>\n",
       "      <td>0.944000</td>\n",
       "      <td>10.748000</td>\n",
       "      <td>0.981000</td>\n",
       "      <td>0.979000</td>\n",
       "    </tr>\n",
       "  </tbody>\n",
       "</table>\n",
       "</div>"
      ],
      "text/plain": [
       "               area        Perim       Mayor       Minor        Circ  \\\n",
       "count    289.000000   289.000000  289.000000  289.000000  289.000000   \n",
       "mean    5161.757785   530.465426  111.412453   52.034671    0.368934   \n",
       "std     5464.460727   459.618965   83.921854   20.245338    0.265239   \n",
       "min       36.000000    22.971000    7.197000    6.369000    0.028000   \n",
       "25%     1940.000000   232.872000   58.278000   39.014000    0.141000   \n",
       "50%     3501.000000   398.198000   84.804000   51.406000    0.293000   \n",
       "75%     6081.000000   617.176000  131.972000   62.822000    0.564000   \n",
       "max    42170.000000  2799.497000  591.187000  126.034000    0.944000   \n",
       "\n",
       "               Ar      Round     Solidity  \n",
       "count  289.000000  289.000000  289.000000  \n",
       "mean     2.198529    0.598536    0.818540  \n",
       "std      1.543613    0.245184    0.121262  \n",
       "min      1.020000    0.093000    0.336000  \n",
       "25%      1.223000    0.397000    0.760000  \n",
       "50%      1.576000    0.635000    0.840000  \n",
       "75%      2.517000    0.818000    0.914000  \n",
       "max     10.748000    0.981000    0.979000  "
      ]
     },
     "execution_count": 89,
     "metadata": {},
     "output_type": "execute_result"
    }
   ],
   "source": [
    "numerics = data.drop(['Extr', 'HPI', 'Region '], axis = 1)\n",
    "numerics.describe()"
   ]
  },
  {
   "cell_type": "markdown",
   "metadata": {},
   "source": [
    "- These is notably a large difference between 75th %tile and max values of features \"area\", \"Perim\", \"Mayor\", \"Minor\" and \"Ar\".\n",
    "\n",
    "- Thus, from observation 1, it suggests that there might be extreme values outliers in our data set. "
   ]
  },
  {
   "cell_type": "markdown",
   "metadata": {},
   "source": [
    "**Correlation**\n",
    "\n",
    "Then exploring data with graphs. Before building models, it is necessary to check if there is correlated variables. A heatmap in seaborn can visualize the correlation matrix. "
   ]
  },
  {
   "cell_type": "code",
   "execution_count": 90,
   "metadata": {},
   "outputs": [],
   "source": [
    "def correlation_heatmap(x):\n",
    "    corr = x.corr()\n",
    "    \n",
    "    fig, ax = plt.subplots(figsize = (8, 8))\n",
    "    sns.heatmap(corr, vmax=1.0, center=0, fmt='.2f',\n",
    "                square=True, linewidths=.5, annot = True, cbar_kws={\"shrink\": .70})\n",
    "    plt.show();"
   ]
  },
  {
   "cell_type": "code",
   "execution_count": 91,
   "metadata": {},
   "outputs": [
    {
     "data": {
      "image/png": "[encoded data removed]",
      "text/plain": [
       "<Figure size 576x576 with 2 Axes>"
      ]
     },
     "metadata": {},
     "output_type": "display_data"
    }
   ],
   "source": [
    "correlation_heatmap(numerics)"
   ]
  },
  {
   "cell_type": "markdown",
   "metadata": {},
   "source": [
    "From this heatmap with correlation values, we could find some of these features have very strong positive/negative correlation. This will influence a lot for modelling. To solve it, PCA will be a good choice. We would like to apply it later. "
   ]
  },
  {
   "cell_type": "markdown",
   "metadata": {},
   "source": [
    "**Outliers**\n",
    "\n",
    "Next step is to check outliers. Use the boxplot to show."
   ]
  },
  {
   "cell_type": "code",
   "execution_count": 92,
   "metadata": {},
   "outputs": [
    {
     "data": {
      "image/png": "[encoded data removed]",
      "text/plain": [
       "<Figure size 576x2835 with 8 Axes>"
      ]
     },
     "metadata": {},
     "output_type": "display_data"
    }
   ],
   "source": [
    "l = numerics.columns.values\n",
    "number_of_columns=8\n",
    "number_of_rows = len(l)-1/number_of_columns\n",
    "plt.figure(figsize=(number_of_columns,5*number_of_rows))\n",
    "for i in range(0,len(l)):\n",
    "    plt.subplot(number_of_rows + 1,number_of_columns,i+1)\n",
    "    sns.set_style('whitegrid')\n",
    "    sns.boxplot(numerics[l[i]],color='green',orient='v')\n",
    "    plt.tight_layout()"
   ]
  },
  {
   "cell_type": "markdown",
   "metadata": {},
   "source": [
    "From above box plots for each numerical feature, there exists some outliers for \"area\", \"Perim\", \"Mayor\", \"Minor\" and \"Ar\". Consider we could not directly drop off all the outliers, so it is needed to choose multiple models to compare."
   ]
  },
  {
   "cell_type": "markdown",
   "metadata": {},
   "source": [
    "**Distributions**"
   ]
  },
  {
   "cell_type": "code",
   "execution_count": 93,
   "metadata": {},
   "outputs": [
    {
     "data": {
      "image/png": "[encoded data removed]",
      "text/plain": [
       "<Figure size 1152x2835 with 8 Axes>"
      ]
     },
     "metadata": {},
     "output_type": "display_data"
    }
   ],
   "source": [
    "plt.figure(figsize=(2*number_of_columns,5*number_of_rows))\n",
    "for i in range(0,len(l)):\n",
    "    plt.subplot(number_of_rows + 1,number_of_columns,i+1)\n",
    "    sns.distplot(numerics[l[i]],kde=True) "
   ]
  },
  {
   "cell_type": "markdown",
   "metadata": {},
   "source": [
    "- \"Minor\" and \"Round\" is similar to be bell-shaped distribution. And \"Minor\" looks to be normal distribution.  \n",
    "- \"Area\", \"Perim\", \"Mayor\", \"Circ\" and \"Ar\" are right skewed, \"Solidity\" is left skewed"
   ]
  },
  {
   "cell_type": "markdown",
   "metadata": {},
   "source": [
    "**check balance of data**"
   ]
  },
  {
   "cell_type": "code",
   "execution_count": 94,
   "metadata": {},
   "outputs": [],
   "source": [
    "# split the x part and y part\n",
    "y = data.Extr\n",
    "x = data.drop('Extr',axis=1)"
   ]
  },
  {
   "cell_type": "code",
   "execution_count": 95,
   "metadata": {},
   "outputs": [
    {
     "name": "stdout",
     "output_type": "stream",
     "text": [
      "142\n",
      "147\n"
     ]
    }
   ],
   "source": [
    "sum1 = sum(y == 1)\n",
    "sum0 = sum(y == 0)\n",
    "print(sum1)\n",
    "print(sum0)"
   ]
  },
  {
   "cell_type": "markdown",
   "metadata": {},
   "source": [
    "From above result, this data is balanced data."
   ]
  },
  {
   "cell_type": "markdown",
   "metadata": {},
   "source": [
    "These two parts are based on the code:\n",
    "<https://nbviewer.jupyter.org/github/PBPatil/Exploratory_Data_Analysis-Wine_Quality_Dataset/blob/master/winequality_white.ipynb>"
   ]
  },
  {
   "cell_type": "markdown",
   "metadata": {},
   "source": [
    "Above are some basic analysis for our data. It helps us to understand more details about each feature and what kind of issues we might need to consider when we build models.  \n",
    "Then we will do the data manipulation before building models."
   ]
  },
  {
   "cell_type": "markdown",
   "metadata": {},
   "source": [
    "#  Preprocessing "
   ]
  },
  {
   "cell_type": "markdown",
   "metadata": {},
   "source": [
    "Based on the EDA for the our data, we need to do some preprocessing for the data."
   ]
  },
  {
   "cell_type": "markdown",
   "metadata": {},
   "source": [
    "## PCA"
   ]
  },
  {
   "cell_type": "markdown",
   "metadata": {},
   "source": [
    "Some of features have strong positive/negative correlation.One method might help to solve this issue is PCA. Also PCA could be used on numerical features. Remove categorical features: \"Region \", \"HPI\", and then applying PCA on numerical variables part. There are two main application using PCA: dimension reduction and delete strong correlation."
   ]
  },
  {
   "cell_type": "code",
   "execution_count": 96,
   "metadata": {},
   "outputs": [],
   "source": [
    "def preprocessingPCA(x, y, test_size = 0.2):\n",
    "    # split data into training and test sets\n",
    "    x_train,x_test,y_train,y_test=train_test_split(x,y,test_size=0.2)\n",
    "    \n",
    "    # seperate the numerical part to apply for PCA \n",
    "    x_train_numeric = x_train[['area', 'Perim', 'Mayor', 'Minor', 'Circ', 'Ar', 'Round ', 'Solidity']]\n",
    "    x_test_numeric = x_test[['area', 'Perim', 'Mayor', 'Minor', 'Circ', 'Ar', 'Round ', 'Solidity']]\n",
    "    \n",
    "    x_train_numeric_new = x_train_numeric.reset_index()\n",
    "    x_train_index = x_train_numeric_new['index']\n",
    "\n",
    "    x_test_numeric_new = x_test_numeric.reset_index()\n",
    "    x_test_index = x_test_numeric_new['index']\n",
    "    \n",
    "    pca_train = x_train_numeric_new.drop('index', axis = 1)\n",
    "    pca_test = x_test_numeric_new.drop('index', axis = 1)\n",
    "\n",
    "    return(x_train_index, x_test_index, pca_train, pca_test, x_train, x_test, y_train, y_test)"
   ]
  },
  {
   "cell_type": "code",
   "execution_count": 97,
   "metadata": {},
   "outputs": [],
   "source": [
    "x_train_index, x_test_index, prep_train, prep_test, x_train, x_test, y_train, y_test = preprocessingPCA(x, y, test_size = 0.2)"
   ]
  },
  {
   "cell_type": "markdown",
   "metadata": {},
   "source": [
    "Before directly applying PCA, standardize the data is necessary. Using StandardScaler() function, fit only on train set then transfering on train set and test set."
   ]
  },
  {
   "cell_type": "code",
   "execution_count": 98,
   "metadata": {},
   "outputs": [],
   "source": [
    "def myStandardscaler(train, test):\n",
    "    scaler = StandardScaler()\n",
    "    scaler.fit(train)\n",
    "    \n",
    "    scaler_train = scaler.transform(train)\n",
    "    scaler_test = scaler.transform(test)\n",
    "    \n",
    "    return(scaler_train, scaler_test)"
   ]
  },
  {
   "cell_type": "code",
   "execution_count": 99,
   "metadata": {},
   "outputs": [],
   "source": [
    "scaler_train, scaler_test = myStandardscaler(prep_train, prep_test)"
   ]
  },
  {
   "cell_type": "markdown",
   "metadata": {},
   "source": [
    "With scaler_train and scaler_test, fit PCA only on train set and then transfer the new components both on train set and test set. To be noticed, when choosing the number of components, based on 'cumulative explained variance' ability. Find the number of principal components needed to explain 90% of the data variance and compare the performance of the mode fitted to this data."
   ]
  },
  {
   "cell_type": "code",
   "execution_count": 100,
   "metadata": {},
   "outputs": [
    {
     "data": {
      "text/plain": [
       "Text(0, 0.5, 'cumulative explained variance')"
      ]
     },
     "execution_count": 100,
     "metadata": {},
     "output_type": "execute_result"
    },
    {
     "data": {
      "image/png": "[encoded data removed]",
      "text/plain": [
       "<Figure size 432x288 with 1 Axes>"
      ]
     },
     "metadata": {},
     "output_type": "display_data"
    }
   ],
   "source": [
    "pca_original = PCA().fit(scaler_train)\n",
    "\n",
    "plt.plot(np.cumsum(pca_original.explained_variance_ratio_))\n",
    "plt.xlabel('number of components')\n",
    "plt.ylabel('cumulative explained variance')"
   ]
  },
  {
   "cell_type": "markdown",
   "metadata": {},
   "source": [
    "From the plot, find the number of principal components needed to reserve is 3."
   ]
  },
  {
   "cell_type": "code",
   "execution_count": 101,
   "metadata": {},
   "outputs": [],
   "source": [
    "def myPCA(scaler_train, scaler_test, x_train_index, x_test_index):\n",
    "    pca = PCA(0.9).fit(scaler_train)\n",
    "    \n",
    "    pca_train = pd.DataFrame(pca.transform(scaler_train), index = x_train_index)\n",
    "    pca_test = pd.DataFrame(pca.transform(scaler_test), index = x_test_index)\n",
    "    \n",
    "    return(pca_train, pca_test)"
   ]
  },
  {
   "cell_type": "code",
   "execution_count": 102,
   "metadata": {},
   "outputs": [],
   "source": [
    "pca_train, pca_test = myPCA(scaler_train, scaler_test, x_train_index, x_test_index)"
   ]
  },
  {
   "cell_type": "code",
   "execution_count": 103,
   "metadata": {},
   "outputs": [],
   "source": [
    "def combineDf(pca_train, pca_test, x_train, x_test):\n",
    "    pca_train.columns = ['pc1', 'pc2', 'pc3']\n",
    "    pca_test.columns = ['pc1', 'pc2', 'pc3']\n",
    "    \n",
    "    x_train_new = pd.concat([pca_train, x_train[['HPI']], x_train[['Region ']]], axis = 1)\n",
    "    x_test_new = pd.concat([pca_test, x_test[['HPI']], x_test[['Region ']]], axis = 1)\n",
    "    \n",
    "    return(x_train_new, x_test_new)"
   ]
  },
  {
   "cell_type": "code",
   "execution_count": 104,
   "metadata": {},
   "outputs": [],
   "source": [
    "x_train_new, x_test_new = combineDf(pca_train, pca_test, x_train, x_test)"
   ]
  },
  {
   "cell_type": "markdown",
   "metadata": {},
   "source": [
    "## Encode"
   ]
  },
  {
   "cell_type": "markdown",
   "metadata": {},
   "source": [
    "Here, we use encoding method for categorical features. \n",
    "\"HPI\" is ordinal feature, so we use ordinal encoding for \"HPI\", there are four levels, instead using the original data, we use level 1, 2, 3, 4 to show different \"HPI\"\n",
    "\"Region \" is nominal feature, and the Region number > 4, consider using target encoding. "
   ]
  },
  {
   "cell_type": "code",
   "execution_count": 105,
   "metadata": {},
   "outputs": [],
   "source": [
    "def ord_encode(X):\n",
    "    x = X.copy()\n",
    "    map1 = {24 : 0, 48 : 1, 72 : 2, 96: 3}\n",
    "    x['HPI'] = x['HPI'].map(map1)\n",
    "    return x"
   ]
  },
  {
   "cell_type": "code",
   "execution_count": 106,
   "metadata": {},
   "outputs": [],
   "source": [
    "x_train_new = ord_encode(x_train_new)\n",
    "x_test_new = ord_encode(x_test_new)"
   ]
  },
  {
   "cell_type": "code",
   "execution_count": 107,
   "metadata": {},
   "outputs": [],
   "source": [
    "enc = TargetEncoder(cols=['Region ']).fit(x_train_new, y_train)\n",
    "\n",
    "x_train_new = enc.transform(x_train_new)\n",
    "x_test_new = enc.transform(x_test_new)"
   ]
  },
  {
   "cell_type": "markdown",
   "metadata": {},
   "source": [
    "# Models"
   ]
  },
  {
   "cell_type": "markdown",
   "metadata": {},
   "source": [
    "After doing data manipulation, the next step is trying different models on the data to see the prediction performance."
   ]
  },
  {
   "cell_type": "markdown",
   "metadata": {},
   "source": [
    "## Logistic Regression  \n",
    "Since this is a binary classification problem. The first model to try is logistic regression."
   ]
  },
  {
   "cell_type": "code",
   "execution_count": 123,
   "metadata": {},
   "outputs": [],
   "source": [
    "def LRmodel(x_train_new, x_test_new, y_train, y_test):\n",
    "    lr = LogisticRegression()\n",
    "    lr.fit(x_train_new, y_train)\n",
    "    scores = cross_val_score(lr, x_train_new, y_train, cv = 10)\n",
    "    scores = pd.Series(scores)\n",
    "    scores = scores.mean()\n",
    "    \n",
    "    y_pred_train = lr.predict(x_train_new)\n",
    "    p_train = np.mean(y_pred_train == y_train)  #or lr.score(x_train_new, y_train)\n",
    "    \n",
    "    y_pred_test = lr.predict(x_test_new)\n",
    "    y_pred_test_prob = lr.predict_proba(x_test_new)\n",
    "    p_test = np.mean(y_pred_test == y_test)     #or lr.score(x_test_new, y_test)\n",
    "    \n",
    "    d = {\"accuracy of train set\": p_train,\n",
    "         \"accuracy of test set\": p_test,\n",
    "         \"y_pred_train\": y_pred_train, \n",
    "         \"y_pred_test\" : y_pred_test,\n",
    "         \"y_pred_test_prob\" : y_pred_test_prob[:,1],\n",
    "         \"Cross Validation Accuracy Scores\": scores}\n",
    "    \n",
    "    return lr, d"
   ]
  },
  {
   "cell_type": "code",
   "execution_count": 129,
   "metadata": {},
   "outputs": [
    {
     "name": "stdout",
     "output_type": "stream",
     "text": [
      "{'accuracy of train set': 0.7748917748917749, 'accuracy of test set': 0.7241379310344828, 'y_pred_train': array([1, 0, 0, 0, 1, 0, 1, 0, 1, 0, 1, 0, 0, 0, 0, 0, 0, 1, 0, 0, 1, 1,\n",
      "       0, 0, 0, 0, 0, 1, 0, 1, 1, 0, 0, 1, 1, 0, 0, 1, 1, 0, 1, 0, 0, 0,\n",
      "       1, 0, 1, 1, 1, 0, 1, 0, 0, 0, 1, 0, 1, 0, 0, 1, 1, 1, 1, 0, 0, 0,\n",
      "       0, 0, 0, 1, 1, 0, 0, 1, 0, 0, 1, 1, 0, 0, 0, 1, 1, 1, 1, 1, 1, 1,\n",
      "       1, 0, 0, 0, 0, 0, 0, 1, 1, 0, 1, 0, 0, 0, 0, 0, 1, 0, 0, 0, 1, 0,\n",
      "       0, 1, 0, 0, 0, 0, 1, 0, 1, 1, 0, 0, 1, 0, 1, 0, 0, 1, 1, 0, 1, 1,\n",
      "       1, 1, 0, 0, 0, 0, 0, 0, 1, 1, 0, 1, 1, 0, 0, 1, 1, 1, 0, 0, 1, 0,\n",
      "       0, 1, 0, 1, 0, 1, 0, 1, 0, 1, 0, 0, 1, 0, 0, 1, 0, 0, 1, 1, 0, 1,\n",
      "       0, 1, 0, 1, 0, 0, 1, 1, 1, 0, 0, 0, 0, 0, 1, 1, 1, 0, 0, 1, 1, 1,\n",
      "       1, 1, 1, 1, 1, 1, 0, 1, 1, 1, 1, 1, 0, 0, 1, 0, 1, 1, 1, 1, 0, 1,\n",
      "       0, 1, 0, 0, 1, 1, 1, 0, 1, 0, 0], dtype=int64), 'y_pred_test': array([0, 0, 0, 1, 1, 0, 1, 1, 1, 1, 1, 0, 0, 1, 0, 0, 0, 0, 1, 0, 0, 1,\n",
      "       1, 1, 0, 0, 1, 0, 0, 1, 0, 0, 0, 0, 0, 0, 0, 1, 1, 1, 0, 1, 0, 1,\n",
      "       0, 1, 0, 1, 0, 0, 0, 1, 0, 1, 1, 1, 0, 1], dtype=int64), 'y_pred_test_prob': array([0.20968642, 0.10594838, 0.29479945, 0.9954334 , 0.90506804,\n",
      "       0.18104666, 0.85179401, 0.63752393, 0.78988103, 0.92799127,\n",
      "       0.9700501 , 0.07878989, 0.05232929, 0.92818285, 0.08705793,\n",
      "       0.11264376, 0.0582922 , 0.19375878, 0.9239454 , 0.22372766,\n",
      "       0.16680141, 0.63015004, 0.94380955, 0.78523575, 0.4350215 ,\n",
      "       0.24110119, 0.62592241, 0.23687158, 0.20645852, 0.93356651,\n",
      "       0.23674906, 0.49593188, 0.18348891, 0.06285359, 0.2209573 ,\n",
      "       0.2482911 , 0.44267514, 0.97932515, 0.67840507, 0.5220957 ,\n",
      "       0.25447244, 0.71722869, 0.16131182, 0.52258749, 0.07086467,\n",
      "       0.99904604, 0.37335055, 0.99897733, 0.36897632, 0.39909702,\n",
      "       0.1416985 , 0.8850901 , 0.16945956, 0.99884712, 0.95669754,\n",
      "       0.58306643, 0.0495631 , 0.98577914]), 'Cross Validation Accuracy Scores': 0.7619565217391304}\n"
     ]
    }
   ],
   "source": [
    "lr, d = LRmodel(x_train_new, x_test_new, y_train, y_test)\n",
    "print(d)"
   ]
  },
  {
   "cell_type": "markdown",
   "metadata": {},
   "source": [
    "Above shows the prediction performance on out test set is about 72%. But at the train_test_split part, there is a random process. So using cross validation on train set, obtaining a mean prediction score is about 76% accuracy. "
   ]
  },
  {
   "cell_type": "code",
   "execution_count": 135,
   "metadata": {},
   "outputs": [],
   "source": [
    "def logit_pvalue(model, x):\n",
    "    \"\"\" Calculate z-scores for scikit-learn LogisticRegression.\n",
    "    parameters:\n",
    "        model: fitted sklearn.linear_model.LogisticRegression with intercept and large C\n",
    "        x:     matrix on which the model was fit\n",
    "    This function uses asymtptics for maximum likelihood estimates.\n",
    "    \"\"\"\n",
    "    p = model.predict_proba(x)\n",
    "    n = len(p)\n",
    "    m = len(model.coef_[0]) + 1\n",
    "    coefs = np.concatenate([model.intercept_, model.coef_[0]])\n",
    "    x_full = np.matrix(np.insert(np.array(x), 0, 1, axis = 1))\n",
    "    ans = np.zeros((m, m))\n",
    "    for i in range(n):\n",
    "        ans = ans + np.dot(np.transpose(x_full[i, :]), x_full[i, :]) * p[i,1] * p[i, 0]\n",
    "    vcov = np.linalg.inv(np.matrix(ans))\n",
    "    se = np.sqrt(np.diag(vcov))\n",
    "    t =  coefs/se  \n",
    "    p = (1 - norm.cdf(abs(t))) * 2\n",
    "    \n",
    "    dd = {\"lr coefs\": coefs,\n",
    "         \"lr p_value\": p}\n",
    "    \n",
    "    return dd"
   ]
  },
  {
   "cell_type": "code",
   "execution_count": 136,
   "metadata": {},
   "outputs": [
    {
     "data": {
      "text/plain": [
       "{'lr coefs': array([-1.1201706 ,  0.68094343,  0.00191749,  0.06763657,  0.5649246 ,\n",
       "         1.48901808]),\n",
       " 'lr p_value': array([4.72015674e-02, 1.52554487e-07, 9.89929027e-01, 7.71766471e-01,\n",
       "        1.98441000e-04, 1.47601230e-01])}"
      ]
     },
     "execution_count": 136,
     "metadata": {},
     "output_type": "execute_result"
    }
   ],
   "source": [
    "logit_pvalue(lr, x_train_new)"
   ]
  },
  {
   "cell_type": "markdown",
   "metadata": {},
   "source": [
    "## Random Forest"
   ]
  },
  {
   "cell_type": "code",
   "execution_count": 144,
   "metadata": {},
   "outputs": [],
   "source": [
    "def rfmodel(x_train_new, x_test_new, y_train, y_test):\n",
    "    model = RandomForestClassifier(n_estimators=100, \n",
    "                               bootstrap = True,\n",
    "                               max_features = 'sqrt')\n",
    "    # Fit on training data\n",
    "    model.fit(x_train_new, y_train)\n",
    "    rf_pred_train = model.predict(x_train_new)\n",
    "    rf_p_train = np.mean(rf_pred_train == y_train)\n",
    "\n",
    "    # Actual class predictions\n",
    "    rf_pred_test = model.predict(x_test_new)\n",
    "    rf_p_test = np.mean(rf_pred_test == y_test)\n",
    "\n",
    "    # Probabilities for each class\n",
    "    rf_probs = model.predict_proba(x_test_new)[:, 1]\n",
    "    \n",
    "    ddd = {\"rf accuracy on train set\": rf_p_train,\n",
    "         \"rf accuracy on test set\": rf_p_test}\n",
    "    \n",
    "    return ddd"
   ]
  },
  {
   "cell_type": "code",
   "execution_count": 146,
   "metadata": {},
   "outputs": [
    {
     "name": "stdout",
     "output_type": "stream",
     "text": [
      "1.0\n",
      "0.7068965517241379\n"
     ]
    },
    {
     "data": {
      "text/plain": [
       "{'rf accuracy on train set': 1.0,\n",
       " 'rf accuracy on test set': 0.7068965517241379}"
      ]
     },
     "execution_count": 146,
     "metadata": {},
     "output_type": "execute_result"
    }
   ],
   "source": [
    "rfmodel(x_train_new, x_test_new, y_train, y_test)"
   ]
  },
  {
   "cell_type": "code",
   "execution_count": null,
   "metadata": {},
   "outputs": [],
   "source": []
  }
 ],
 "metadata": {
  "kernelspec": {
   "display_name": "Python 3",
   "language": "python",
   "name": "python3"
  },
  "language_info": {
   "codemirror_mode": {
    "name": "ipython",
    "version": 3
   },
   "file_extension": ".py",
   "mimetype": "text/x-python",
   "name": "python",
   "nbconvert_exporter": "python",
   "pygments_lexer": "ipython3",
   "version": "3.7.3"
  }
 },
 "nbformat": 4,
 "nbformat_minor": 4
}
